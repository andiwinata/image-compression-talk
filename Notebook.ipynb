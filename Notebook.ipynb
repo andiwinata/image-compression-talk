{
 "cells": [
  {
   "cell_type": "code",
   "execution_count": 1,
   "metadata": {},
   "outputs": [],
   "source": [
    "# From dct.py"
   ]
  },
  {
   "cell_type": "code",
   "execution_count": 2,
   "metadata": {},
   "outputs": [],
   "source": [
    "import numpy as np\n",
    "import matplotlib.pyplot as plt\n",
    "import scipy\n",
    "import cv2"
   ]
  },
  {
   "cell_type": "code",
   "execution_count": 3,
   "metadata": {},
   "outputs": [],
   "source": [
    "# https://stackoverflow.com/questions/9777783/suppress-scientific-notation-in-numpy-when-creating-array-from-nested-list\n",
    "# prevent numpy exponential \n",
    "# notation on print, default False\n",
    "np.set_printoptions(suppress=True)"
   ]
  },
  {
   "cell_type": "code",
   "execution_count": 4,
   "metadata": {},
   "outputs": [],
   "source": [
    "from IPython.display import Markdown as md\n",
    "\n",
    "# From https://stackoverflow.com/questions/5466451/how-can-i-print-literal-curly-brace-characters-in-python-string-and-also-use-fo\n",
    "# https://stackoverflow.com/a/47310524/4162778\n",
    "def array_to_latex_matrix(arr):\n",
    "    converted_str = np.array2string(arr, separator=' &', suppress_small=True).replace('[', '').replace(']', '').replace('\\n', '\\\\\\\\\\n').replace('&\\\\', '\\\\')\n",
    "    \n",
    "    md_format = \"\\\\begin{{bmatrix}}{0}\\\\end{{bmatrix}}\"\n",
    "    return md(md_format.format(converted_str))"
   ]
  },
  {
   "cell_type": "code",
   "execution_count": 5,
   "metadata": {},
   "outputs": [],
   "source": [
    "# From https://en.wikipedia.org/wiki/JPEG#JPEG_codec_example\n",
    "wiki_raw = np.array([\n",
    "  [52, 55, 61, 66, 70, 61, 64, 73],\n",
    "  [63, 59, 55, 90, 109, 85, 69, 72],\n",
    "  [62, 59, 68, 113, 144, 104, 66, 73],\n",
    "  [63, 58, 71, 122, 154, 106, 70, 69],\n",
    "  [67, 61, 68, 104, 126, 88, 68, 70],\n",
    "  [79, 65, 60, 70, 77, 68, 58, 75],\n",
    "  [85, 71, 64, 59, 55, 61, 65, 83],\n",
    "  [87, 79, 69, 68, 65, 76, 78, 94]\n",
    "])\n",
    "\n",
    "jpg_low_color = np.array([\n",
    "  [255, 255, 255, 255,  255, 255, 255, 255],\n",
    "  [255, 255, 255, 255,  255, 255, 255, 0  ],\n",
    "  [255, 255, 255, 255,  255, 255, 0  , 0  ],\n",
    "  [255, 255, 255, 255,  0  , 0  , 0  , 255],\n",
    "  [255, 255, 255, 0  ,  0  , 255, 255, 255],\n",
    "  [255, 0  , 0  , 0  ,  255, 255, 255, 255],\n",
    "  [0  , 255, 255, 255,  255, 255, 255, 255],\n",
    "  [255, 255, 255, 255,  255, 255, 255, 255],\n",
    "])\n",
    "\n",
    "def normalizeImg(img):\n",
    "  # This normalization is wrong\n",
    "  # return np.array(img) / 255\n",
    "\n",
    "  # normalized this way following wiki JPEG\n",
    "  # and https://stackoverflow.com/questions/31949210/assertion-failed-type-cv-32fc1-type-cv-64fc1-in-dct\n",
    "    return (np.array(img) - 128) / 128"
   ]
  },
  {
   "cell_type": "code",
   "execution_count": 6,
   "metadata": {
    "scrolled": true
   },
   "outputs": [
    {
     "data": {
      "text/markdown": [
       "\\begin{bmatrix}255 &255 &255 &255 &255 &255 &255 &255 \\\\\n",
       " 255 &255 &255 &255 &255 &255 &255 &  0 \\\\\n",
       " 255 &255 &255 &255 &255 &255 &  0 &  0 \\\\\n",
       " 255 &255 &255 &255 &  0 &  0 &  0 &255 \\\\\n",
       " 255 &255 &255 &  0 &  0 &255 &255 &255 \\\\\n",
       " 255 &  0 &  0 &  0 &255 &255 &255 &255 \\\\\n",
       "   0 &255 &255 &255 &255 &255 &255 &255 \\\\\n",
       " 255 &255 &255 &255 &255 &255 &255 &255\\end{bmatrix}"
      ],
      "text/plain": [
       "<IPython.core.display.Markdown object>"
      ]
     },
     "execution_count": 6,
     "metadata": {},
     "output_type": "execute_result"
    }
   ],
   "source": [
    "array_to_latex_matrix(jpg_low_color)"
   ]
  },
  {
   "cell_type": "code",
   "execution_count": 7,
   "metadata": {},
   "outputs": [],
   "source": [
    "wiki_raw_normalized = normalizeImg(wiki_raw)\n",
    "jpg_low_color_normalized = normalizeImg(jpg_low_color)"
   ]
  },
  {
   "cell_type": "code",
   "execution_count": 8,
   "metadata": {},
   "outputs": [],
   "source": [
    "q50_table = np.array([\n",
    "  [16, 11, 10, 16, 24, 40, 51, 61],\n",
    "  [12, 12, 14, 19, 26, 58, 60, 55],\n",
    "  [14, 13, 16, 24, 40, 57, 69, 56],\n",
    "  [14, 17, 22, 29, 51, 87, 80, 62],\n",
    "  [18, 22, 37, 56, 68, 109, 103, 77],\n",
    "  [24, 35, 55, 64, 81, 104, 113, 92],\n",
    "  [49, 64, 78, 87, 103, 121, 120, 101],\n",
    "  [72, 92, 95, 98, 112, 100, 103, 99]\n",
    "])"
   ]
  },
  {
   "cell_type": "code",
   "execution_count": 9,
   "metadata": {},
   "outputs": [],
   "source": [
    "def convert_dct_cv2(img):\n",
    "  print('Start DCT')\n",
    "  print(img)\n",
    "  print('-----------')\n",
    "  DCT = cv2.dct(img)\n",
    "  result = np.round(DCT * 128, decimals=2)\n",
    "  print('Coefficient')\n",
    "  print(result)\n",
    "  print('-----------')\n",
    "  return result"
   ]
  },
  {
   "cell_type": "code",
   "execution_count": 10,
   "metadata": {},
   "outputs": [],
   "source": [
    "def quantization(coefficient):\n",
    "  result = np.round(coefficient / q50_table)\n",
    "  print('After quantization')\n",
    "  print(result)\n",
    "  print('-----------')\n",
    "  return result"
   ]
  },
  {
   "cell_type": "code",
   "execution_count": 11,
   "metadata": {},
   "outputs": [
    {
     "name": "stdout",
     "output_type": "stream",
     "text": [
      "Start DCT\n",
      "[[-0.59375   -0.5703125 -0.5234375 -0.484375  -0.453125  -0.5234375\n",
      "  -0.5       -0.4296875]\n",
      " [-0.5078125 -0.5390625 -0.5703125 -0.296875  -0.1484375 -0.3359375\n",
      "  -0.4609375 -0.4375   ]\n",
      " [-0.515625  -0.5390625 -0.46875   -0.1171875  0.125     -0.1875\n",
      "  -0.484375  -0.4296875]\n",
      " [-0.5078125 -0.546875  -0.4453125 -0.046875   0.203125  -0.171875\n",
      "  -0.453125  -0.4609375]\n",
      " [-0.4765625 -0.5234375 -0.46875   -0.1875    -0.015625  -0.3125\n",
      "  -0.46875   -0.453125 ]\n",
      " [-0.3828125 -0.4921875 -0.53125   -0.453125  -0.3984375 -0.46875\n",
      "  -0.546875  -0.4140625]\n",
      " [-0.3359375 -0.4453125 -0.5       -0.5390625 -0.5703125 -0.5234375\n",
      "  -0.4921875 -0.3515625]\n",
      " [-0.3203125 -0.3828125 -0.4609375 -0.46875   -0.4921875 -0.40625\n",
      "  -0.390625  -0.265625 ]]\n",
      "-----------\n",
      "Coefficient\n",
      "[[-415.38  -30.19  -61.2    27.24   56.12  -20.1    -2.39    0.46]\n",
      " [   4.47  -21.86  -60.76   10.25   13.15   -7.09   -8.54    4.88]\n",
      " [ -46.83    7.37   77.13  -24.56  -28.91    9.93    5.42   -5.65]\n",
      " [ -48.53   12.07   34.1   -14.76  -10.24    6.3     1.83    1.95]\n",
      " [  12.12   -6.55  -13.2    -3.95   -1.87    1.75   -2.79    3.14]\n",
      " [  -7.73    2.91    2.38   -5.94   -2.38    0.94    4.3     1.85]\n",
      " [  -1.03    0.18    0.42   -2.42   -0.88   -3.02    4.12   -0.66]\n",
      " [  -0.17    0.14   -1.07   -4.19   -1.17   -0.1     0.5     1.68]]\n",
      "-----------\n",
      "After quantization\n",
      "[[-26.  -3.  -6.   2.   2.  -1.  -0.   0.]\n",
      " [  0.  -2.  -4.   1.   1.  -0.  -0.   0.]\n",
      " [ -3.   1.   5.  -1.  -1.   0.   0.  -0.]\n",
      " [ -3.   1.   2.  -1.  -0.   0.   0.   0.]\n",
      " [  1.  -0.  -0.  -0.  -0.   0.  -0.   0.]\n",
      " [ -0.   0.   0.  -0.  -0.   0.   0.   0.]\n",
      " [ -0.   0.   0.  -0.  -0.  -0.   0.  -0.]\n",
      " [ -0.   0.  -0.  -0.  -0.  -0.   0.   0.]]\n",
      "-----------\n"
     ]
    }
   ],
   "source": [
    "wiki_result = quantization(convert_dct_cv2(wiki_raw_normalized))"
   ]
  },
  {
   "cell_type": "code",
   "execution_count": 12,
   "metadata": {},
   "outputs": [
    {
     "name": "stdout",
     "output_type": "stream",
     "text": [
      "Start DCT\n",
      "[[ 0.9921875  0.9921875  0.9921875  0.9921875  0.9921875  0.9921875\n",
      "   0.9921875  0.9921875]\n",
      " [ 0.9921875  0.9921875  0.9921875  0.9921875  0.9921875  0.9921875\n",
      "   0.9921875 -1.       ]\n",
      " [ 0.9921875  0.9921875  0.9921875  0.9921875  0.9921875  0.9921875\n",
      "  -1.        -1.       ]\n",
      " [ 0.9921875  0.9921875  0.9921875  0.9921875 -1.        -1.\n",
      "  -1.         0.9921875]\n",
      " [ 0.9921875  0.9921875  0.9921875 -1.        -1.         0.9921875\n",
      "   0.9921875  0.9921875]\n",
      " [ 0.9921875 -1.        -1.        -1.         0.9921875  0.9921875\n",
      "   0.9921875  0.9921875]\n",
      " [-1.         0.9921875  0.9921875  0.9921875  0.9921875  0.9921875\n",
      "   0.9921875  0.9921875]\n",
      " [ 0.9921875  0.9921875  0.9921875  0.9921875  0.9921875  0.9921875\n",
      "   0.9921875  0.9921875]]\n",
      "-----------\n",
      "Coefficient\n",
      "[[ 633.5    81.69   24.4    28.69  -63.75  -19.17   58.9   -16.25]\n",
      " [  16.25  243.87  -90.49   27.83    1.34   46.03    0.85  -25.82]\n",
      " [ 259.99  -98.8  -198.98   44.21  -10.11    8.79 -108.83   33.11]\n",
      " [ -19.17 -292.67  172.18  109.11  -30.92    8.28    3.64   86.72]\n",
      " [  63.75   60.95  225.48 -184.79    0.     23.29   44.61  -47.3 ]\n",
      " [ -28.69    3.43  -76.71 -209.37  103.65  -71.77  -18.31  -75.01]\n",
      " [ -38.69  -25.04   18.67  181.7   142.19  -28.86   71.48   37.48]\n",
      " [  81.69   11.53  -60.46   -8.68 -170.12  -62.33   32.33  -26.22]]\n",
      "-----------\n",
      "After quantization\n",
      "[[ 40.   7.   2.   2.  -3.  -0.   1.  -0.]\n",
      " [  1.  20.  -6.   1.   0.   1.   0.  -0.]\n",
      " [ 19.  -8. -12.   2.  -0.   0.  -2.   1.]\n",
      " [ -1. -17.   8.   4.  -1.   0.   0.   1.]\n",
      " [  4.   3.   6.  -3.   0.   0.   0.  -1.]\n",
      " [ -1.   0.  -1.  -3.   1.  -1.  -0.  -1.]\n",
      " [ -1.  -0.   0.   2.   1.  -0.   1.   0.]\n",
      " [  1.   0.  -1.  -0.  -2.  -1.   0.  -0.]]\n",
      "-----------\n"
     ]
    }
   ],
   "source": [
    "jpg_low_color_result = quantization(convert_dct_cv2(jpg_low_color_normalized))"
   ]
  },
  {
   "cell_type": "code",
   "execution_count": 13,
   "metadata": {},
   "outputs": [
    {
     "data": {
      "text/markdown": [
       "\\begin{bmatrix}-26 & -3 & -6 &  2 &  2 & -1 &  0 &  0 \\\\\n",
       "   0 & -2 & -4 &  1 &  1 &  0 &  0 &  0 \\\\\n",
       "  -3 &  1 &  5 & -1 & -1 &  0 &  0 &  0 \\\\\n",
       "  -3 &  1 &  2 & -1 &  0 &  0 &  0 &  0 \\\\\n",
       "   1 &  0 &  0 &  0 &  0 &  0 &  0 &  0 \\\\\n",
       "   0 &  0 &  0 &  0 &  0 &  0 &  0 &  0 \\\\\n",
       "   0 &  0 &  0 &  0 &  0 &  0 &  0 &  0 \\\\\n",
       "   0 &  0 &  0 &  0 &  0 &  0 &  0 &  0\\end{bmatrix}"
      ],
      "text/plain": [
       "<IPython.core.display.Markdown object>"
      ]
     },
     "execution_count": 13,
     "metadata": {},
     "output_type": "execute_result"
    }
   ],
   "source": [
    "# Remove trailing dot\n",
    "# https://stackoverflow.com/questions/57980827/is-it-possible-to-remove-the-dot-from-each-of-the-following-values\n",
    "array_to_latex_matrix(wiki_result.astype(int))"
   ]
  },
  {
   "cell_type": "code",
   "execution_count": 14,
   "metadata": {},
   "outputs": [
    {
     "data": {
      "text/markdown": [
       "\\begin{bmatrix} 40 &  7 &  2 &  2 & -3 &  0 &  1 &  0 \\\\\n",
       "   1 & 20 & -6 &  1 &  0 &  1 &  0 &  0 \\\\\n",
       "  19 & -8 &-12 &  2 &  0 &  0 & -2 &  1 \\\\\n",
       "  -1 &-17 &  8 &  4 & -1 &  0 &  0 &  1 \\\\\n",
       "   4 &  3 &  6 & -3 &  0 &  0 &  0 & -1 \\\\\n",
       "  -1 &  0 & -1 & -3 &  1 & -1 &  0 & -1 \\\\\n",
       "  -1 &  0 &  0 &  2 &  1 &  0 &  1 &  0 \\\\\n",
       "   1 &  0 & -1 &  0 & -2 & -1 &  0 &  0\\end{bmatrix}"
      ],
      "text/plain": [
       "<IPython.core.display.Markdown object>"
      ]
     },
     "execution_count": 14,
     "metadata": {},
     "output_type": "execute_result"
    }
   ],
   "source": [
    "array_to_latex_matrix(jpg_low_color_result.astype(int))"
   ]
  },
  {
   "cell_type": "markdown",
   "metadata": {},
   "source": [
    "## DCT pattern calculation"
   ]
  },
  {
   "cell_type": "code",
   "execution_count": 15,
   "metadata": {},
   "outputs": [],
   "source": [
    "from sparselandtools.dictionaries import DCTDictionary"
   ]
  },
  {
   "cell_type": "code",
   "execution_count": 16,
   "metadata": {},
   "outputs": [],
   "source": [
    "dct_dictionary = DCTDictionary(8, 8)"
   ]
  },
  {
   "cell_type": "code",
   "execution_count": 17,
   "metadata": {
    "scrolled": true
   },
   "outputs": [
    {
     "data": {
      "image/png": "[encoded data removed]",
      "text/plain": [
       "<Figure size 432x288 with 1 Axes>"
      ]
     },
     "metadata": {
      "needs_background": "light"
     },
     "output_type": "display_data"
    }
   ],
   "source": [
    "plt.imshow(dct_dictionary.to_img(), cmap='gray')\n",
    "plt.axis('off')\n",
    "plt.show()"
   ]
  },
  {
   "cell_type": "code",
   "execution_count": 18,
   "metadata": {},
   "outputs": [],
   "source": [
    "# From https://stackoverflow.com/questions/16856788/slice-2d-array-into-smaller-2d-arrays\n",
    "def blockshaped(arr_raw, nrows, ncols):\n",
    "    \"\"\"\n",
    "    Return an array of shape (n, nrows, ncols) where\n",
    "    n * nrows * ncols = arr.size\n",
    "\n",
    "    If arr is a 2D array, the returned array should look like n subblocks with\n",
    "    each subblock preserving the \"physical\" layout of arr.\n",
    "    \"\"\"\n",
    "    arr = np.array(arr_raw)\n",
    "    h, w = arr.shape\n",
    "    assert h % nrows == 0, \"{} rows is not evenly divisble by {}\".format(h, nrows)\n",
    "    assert w % ncols == 0, \"{} cols is not evenly divisble by {}\".format(w, ncols)\n",
    "    return (arr.reshape(h//nrows, nrows, -1, ncols)\n",
    "               .swapaxes(1,2)\n",
    "               .reshape(-1, nrows, ncols))"
   ]
  },
  {
   "cell_type": "code",
   "execution_count": 19,
   "metadata": {},
   "outputs": [
    {
     "data": {
      "text/plain": [
       "array([[0.        , 1.        , 1.        , 0.92387953, 1.        ,\n",
       "        0.78322725, 0.70710678, 0.59945618],\n",
       "       [0.        , 0.92387953, 0.70710678, 0.40054382, 0.        ,\n",
       "        0.        , 0.        , 0.21677275],\n",
       "       [0.        , 0.78322725, 0.29289322, 0.        , 0.        ,\n",
       "        0.59945618, 1.        , 0.92387953],\n",
       "       [0.        , 0.59945618, 0.        , 0.21677275, 1.        ,\n",
       "        0.92387953, 0.29289322, 0.        ],\n",
       "       [0.        , 0.40054382, 0.        , 0.78322725, 1.        ,\n",
       "        0.07612047, 0.29289322, 1.        ],\n",
       "       [0.        , 0.21677275, 0.29289322, 1.        , 0.        ,\n",
       "        0.40054382, 1.        , 0.07612047],\n",
       "       [0.        , 0.07612047, 0.70710678, 0.59945618, 0.        ,\n",
       "        1.        , 0.        , 0.78322725],\n",
       "       [0.        , 0.        , 1.        , 0.07612047, 1.        ,\n",
       "        0.21677275, 0.70710678, 0.40054382]])"
      ]
     },
     "execution_count": 19,
     "metadata": {},
     "output_type": "execute_result"
    }
   ],
   "source": [
    "pattern = dct_dictionary.matrix\n",
    "blockshaped(pattern, 8, 8)[0]"
   ]
  },
  {
   "cell_type": "code",
   "execution_count": 20,
   "metadata": {},
   "outputs": [
    {
     "data": {
      "text/plain": [
       "<matplotlib.image.AxesImage at 0x1be684b4240>"
      ]
     },
     "execution_count": 20,
     "metadata": {},
     "output_type": "execute_result"
    },
    {
     "data": {
      "image/png": "[encoded data removed]",
      "text/plain": [
       "<Figure size 432x288 with 1 Axes>"
      ]
     },
     "metadata": {
      "needs_background": "light"
     },
     "output_type": "display_data"
    }
   ],
   "source": [
    "plt.imshow(blockshaped(pattern, 8, 8)[5], cmap='gray')"
   ]
  },
  {
   "cell_type": "code",
   "execution_count": 21,
   "metadata": {},
   "outputs": [
    {
     "data": {
      "text/plain": [
       "(73, 73)"
      ]
     },
     "execution_count": 21,
     "metadata": {},
     "output_type": "execute_result"
    }
   ],
   "source": [
    "img = dct_dictionary.to_img()\n",
    "img.shape\n",
    "# want to remove 0\n",
    "# keep 1,2,3,4, 5,6,7,8\n",
    "# then remove 9\n",
    "# keep 10,11,12,13, 14,15,16,17\n",
    "# then remove 18"
   ]
  },
  {
   "cell_type": "code",
   "execution_count": 22,
   "metadata": {},
   "outputs": [],
   "source": [
    "# Trimming\n",
    "# https://stackoverflow.com/questions/28925267/delete-every-nth-row-or-column-in-a-matrix-using-python\n",
    "# https://stackoverflow.com/questions/21922314/python-removing-every-nth-element-in-array\n",
    "trimmed_row = np.delete(img, np.arange(0, img.shape[0], 9), axis=0)\n",
    "trimmed_row_col = np.delete(trimmed_row, np.arange(0, img.shape[1], 9), axis=1)"
   ]
  },
  {
   "cell_type": "code",
   "execution_count": 23,
   "metadata": {},
   "outputs": [],
   "source": [
    "def get_dct_pattern(u, v):\n",
    "    uu = u * 8\n",
    "    vv = v * 8\n",
    "    return trimmed_row_col[uu:uu+7, vv:vv+7]\n",
    "\n",
    "def show_dct_pattern(u, v):\n",
    "    result = get_dct_pattern(u, v)\n",
    "    plt.axis('off')\n",
    "    plt.imshow(result, cmap='gray')\n",
    "    return result"
   ]
  },
  {
   "cell_type": "code",
   "execution_count": 24,
   "metadata": {
    "scrolled": false
   },
   "outputs": [
    {
     "data": {
      "text/plain": [
       "array([[1.        , 0.92387953, 0.78322725, 0.59945618, 0.40054382,\n",
       "        0.21677275, 0.07612047],\n",
       "       [1.        , 0.92387953, 0.78322725, 0.59945618, 0.40054382,\n",
       "        0.21677275, 0.07612047],\n",
       "       [1.        , 0.92387953, 0.78322725, 0.59945618, 0.40054382,\n",
       "        0.21677275, 0.07612047],\n",
       "       [1.        , 0.92387953, 0.78322725, 0.59945618, 0.40054382,\n",
       "        0.21677275, 0.07612047],\n",
       "       [1.        , 0.92387953, 0.78322725, 0.59945618, 0.40054382,\n",
       "        0.21677275, 0.07612047],\n",
       "       [1.        , 0.92387953, 0.78322725, 0.59945618, 0.40054382,\n",
       "        0.21677275, 0.07612047],\n",
       "       [1.        , 0.92387953, 0.78322725, 0.59945618, 0.40054382,\n",
       "        0.21677275, 0.07612047]])"
      ]
     },
     "execution_count": 24,
     "metadata": {},
     "output_type": "execute_result"
    },
    {
     "data": {
      "image/png": "[encoded data removed]",
      "text/plain": [
       "<Figure size 432x288 with 1 Axes>"
      ]
     },
     "metadata": {
      "needs_background": "light"
     },
     "output_type": "display_data"
    }
   ],
   "source": [
    "show_dct_pattern(1, 0)"
   ]
  },
  {
   "cell_type": "code",
   "execution_count": 25,
   "metadata": {},
   "outputs": [],
   "source": [
    "def multiply_dct_pattern(pattern, val):\n",
    "    # From https://stackoverflow.com/a/3823822/4162778\n",
    "    (vmin, vmax) = (-1, 0) if val < 0 else (1, 0)\n",
    "    cmap = 'gray_r' if val < 0 else 'gray'\n",
    "    r = pattern * val\n",
    "    plt.axis('off')\n",
    "    plt.imshow(r, cmap=cmap, vmin=vmin, vmax=vmax)\n",
    "    return r"
   ]
  },
  {
   "cell_type": "code",
   "execution_count": 26,
   "metadata": {},
   "outputs": [
    {
     "data": {
      "text/plain": [
       "array([[-0.341     , -0.31504292, -0.26708049, -0.20441456, -0.13658544,\n",
       "        -0.07391951, -0.02595708],\n",
       "       [-0.341     , -0.31504292, -0.26708049, -0.20441456, -0.13658544,\n",
       "        -0.07391951, -0.02595708],\n",
       "       [-0.341     , -0.31504292, -0.26708049, -0.20441456, -0.13658544,\n",
       "        -0.07391951, -0.02595708],\n",
       "       [-0.341     , -0.31504292, -0.26708049, -0.20441456, -0.13658544,\n",
       "        -0.07391951, -0.02595708],\n",
       "       [-0.341     , -0.31504292, -0.26708049, -0.20441456, -0.13658544,\n",
       "        -0.07391951, -0.02595708],\n",
       "       [-0.341     , -0.31504292, -0.26708049, -0.20441456, -0.13658544,\n",
       "        -0.07391951, -0.02595708],\n",
       "       [-0.341     , -0.31504292, -0.26708049, -0.20441456, -0.13658544,\n",
       "        -0.07391951, -0.02595708]])"
      ]
     },
     "execution_count": 26,
     "metadata": {},
     "output_type": "execute_result"
    },
    {
     "data": {
      "image/png": "[encoded data removed]",
      "text/plain": [
       "<Figure size 432x288 with 1 Axes>"
      ]
     },
     "metadata": {
      "needs_background": "light"
     },
     "output_type": "display_data"
    }
   ],
   "source": [
    "multiply_dct_pattern(show_dct_pattern(1, 0), -0.341)"
   ]
  },
  {
   "cell_type": "markdown",
   "metadata": {},
   "source": [
    "---"
   ]
  },
  {
   "cell_type": "markdown",
   "metadata": {},
   "source": [
    "### DCT II 2D from https://en.wikipedia.org/wiki/Discrete_cosine_transform#M-D_DCT-II"
   ]
  },
  {
   "cell_type": "markdown",
   "metadata": {},
   "source": [
    "{\\begin{aligned}X_{k_{1},k_{2}}&=\\sum _{n_{1}=0}^{N_{1}-1}\\left(\\sum _{n_{2}=0}^{N_{2}-1}x_{n_{1},n_{2}}\\cos \\left[{\\frac {\\pi }{N_{2}}}\\left(n_{2}+{\\frac {1}{2}}\\right)k_{2}\\right]\\right)\\cos \\left[{\\frac {\\pi }{N_{1}}}\\left(n_{1}+{\\frac {1}{2}}\\right)k_{1}\\right]\\\\&=\\sum _{n_{1}=0}^{N_{1}-1}\\sum _{n_{2}=0}^{N_{2}-1}x_{n_{1},n_{2}}\\cos \\left[{\\frac {\\pi }{N_{1}}}\\left(n_{1}+{\\frac {1}{2}}\\right)k_{1}\\right]\\cos \\left[{\\frac {\\pi }{N_{2}}}\\left(n_{2}+{\\frac {1}{2}}\\right)k_{2}\\right].\\end{aligned}}}"
   ]
  },
  {
   "cell_type": "markdown",
   "metadata": {},
   "source": [
    "The above hasn't been normalised yet, see wiki"
   ]
  },
  {
   "cell_type": "code",
   "execution_count": 27,
   "metadata": {},
   "outputs": [],
   "source": [
    "# From https://github.com/chalmersgit/Discrete-Cosine-Transform/blob/master/dct.py\n",
    "# https://stackoverflow.com/questions/50581120/is-it-possible-to-genereate-more-than-64-dct-basis-functions\n",
    "from math import cos,sqrt,pi\n",
    "\n",
    "def dct(x, y, u, v, n):\n",
    "    # Normalisation\n",
    "    def alpha(a):\n",
    "        if a==0:\n",
    "            return sqrt(1.0/n)\n",
    "        else:\n",
    "            return sqrt(2.0/n)\n",
    "    return alpha(u) * alpha(v) * cos(((2*x+1)*(u*pi))/(2*n)) * cos(((2*y+1)*(v*pi))/(2*n))\n",
    "\n",
    "def getBasisImage(u, v, n):\n",
    "    # for a given (u,v), make a DCT basis image\n",
    "    basisImg = np.zeros((n,n))\n",
    "    for y in range(0, n):\n",
    "        for x in range(0, n):\n",
    "            basisImg[y,x] = dct(x, y, u, v, n)\n",
    "    return basisImg"
   ]
  },
  {
   "cell_type": "code",
   "execution_count": 28,
   "metadata": {},
   "outputs": [],
   "source": [
    "# So looks like DCT pattern is not actually black and white\n",
    "# 0 does not mean it is black\n",
    "# Same with 1 is not white, it's just a mapped value\n",
    "def show_dct_pattern(u, v, n=8):\n",
    "    plt.axis('off')\n",
    "    arr = getBasisImage(u, v, 8)\n",
    "    plt.imshow(arr, cmap='gray')\n",
    "    return arr"
   ]
  },
  {
   "cell_type": "code",
   "execution_count": 29,
   "metadata": {},
   "outputs": [
    {
     "data": {
      "text/plain": [
       "array([[0.125, 0.125, 0.125, 0.125, 0.125, 0.125, 0.125, 0.125],\n",
       "       [0.125, 0.125, 0.125, 0.125, 0.125, 0.125, 0.125, 0.125],\n",
       "       [0.125, 0.125, 0.125, 0.125, 0.125, 0.125, 0.125, 0.125],\n",
       "       [0.125, 0.125, 0.125, 0.125, 0.125, 0.125, 0.125, 0.125],\n",
       "       [0.125, 0.125, 0.125, 0.125, 0.125, 0.125, 0.125, 0.125],\n",
       "       [0.125, 0.125, 0.125, 0.125, 0.125, 0.125, 0.125, 0.125],\n",
       "       [0.125, 0.125, 0.125, 0.125, 0.125, 0.125, 0.125, 0.125],\n",
       "       [0.125, 0.125, 0.125, 0.125, 0.125, 0.125, 0.125, 0.125]])"
      ]
     },
     "execution_count": 29,
     "metadata": {},
     "output_type": "execute_result"
    },
    {
     "data": {
      "image/png": "[encoded data removed]",
      "text/plain": [
       "<Figure size 432x288 with 1 Axes>"
      ]
     },
     "metadata": {
      "needs_background": "light"
     },
     "output_type": "display_data"
    }
   ],
   "source": [
    "show_dct_pattern(0, 0)"
   ]
  },
  {
   "cell_type": "code",
   "execution_count": 30,
   "metadata": {},
   "outputs": [
    {
     "data": {
      "text/plain": [
       "array([[ 1.38703985,  1.38703985,  1.38703985,  1.38703985,  1.38703985,\n",
       "         1.38703985,  1.38703985,  1.38703985],\n",
       "       [ 1.1758756 ,  1.1758756 ,  1.1758756 ,  1.1758756 ,  1.1758756 ,\n",
       "         1.1758756 ,  1.1758756 ,  1.1758756 ],\n",
       "       [ 0.78569496,  0.78569496,  0.78569496,  0.78569496,  0.78569496,\n",
       "         0.78569496,  0.78569496,  0.78569496],\n",
       "       [ 0.27589938,  0.27589938,  0.27589938,  0.27589938,  0.27589938,\n",
       "         0.27589938,  0.27589938,  0.27589938],\n",
       "       [-0.27589938, -0.27589938, -0.27589938, -0.27589938, -0.27589938,\n",
       "        -0.27589938, -0.27589938, -0.27589938],\n",
       "       [-0.78569496, -0.78569496, -0.78569496, -0.78569496, -0.78569496,\n",
       "        -0.78569496, -0.78569496, -0.78569496],\n",
       "       [-1.1758756 , -1.1758756 , -1.1758756 , -1.1758756 , -1.1758756 ,\n",
       "        -1.1758756 , -1.1758756 , -1.1758756 ],\n",
       "       [-1.38703985, -1.38703985, -1.38703985, -1.38703985, -1.38703985,\n",
       "        -1.38703985, -1.38703985, -1.38703985]])"
      ]
     },
     "execution_count": 30,
     "metadata": {},
     "output_type": "execute_result"
    },
    {
     "data": {
      "image/png": "[encoded data removed]",
      "text/plain": [
       "<Figure size 432x288 with 1 Axes>"
      ]
     },
     "metadata": {
      "needs_background": "light"
     },
     "output_type": "display_data"
    }
   ],
   "source": [
    "show_dct_pattern(0, 1) * 8"
   ]
  },
  {
   "cell_type": "code",
   "execution_count": 31,
   "metadata": {},
   "outputs": [
    {
     "data": {
      "text/plain": [
       "array([[ 0.00951506, -0.02709659,  0.04055292, -0.04783543,  0.04783543,\n",
       "        -0.04055292,  0.02709659, -0.00951506],\n",
       "       [-0.02709659,  0.07716457, -0.11548494,  0.13622378, -0.13622378,\n",
       "         0.11548494, -0.07716457,  0.02709659],\n",
       "       [ 0.04055292, -0.11548494,  0.17283543, -0.20387329,  0.20387329,\n",
       "        -0.17283543,  0.11548494, -0.04055292],\n",
       "       [-0.04783543,  0.13622378, -0.20387329,  0.24048494, -0.24048494,\n",
       "         0.20387329, -0.13622378,  0.04783543],\n",
       "       [ 0.04783543, -0.13622378,  0.20387329, -0.24048494,  0.24048494,\n",
       "        -0.20387329,  0.13622378, -0.04783543],\n",
       "       [-0.04055292,  0.11548494, -0.17283543,  0.20387329, -0.20387329,\n",
       "         0.17283543, -0.11548494,  0.04055292],\n",
       "       [ 0.02709659, -0.07716457,  0.11548494, -0.13622378,  0.13622378,\n",
       "        -0.11548494,  0.07716457, -0.02709659],\n",
       "       [-0.00951506,  0.02709659, -0.04055292,  0.04783543, -0.04783543,\n",
       "         0.04055292, -0.02709659,  0.00951506]])"
      ]
     },
     "execution_count": 31,
     "metadata": {},
     "output_type": "execute_result"
    },
    {
     "data": {
      "image/png": "[encoded data removed]",
      "text/plain": [
       "<Figure size 432x288 with 1 Axes>"
      ]
     },
     "metadata": {
      "needs_background": "light"
     },
     "output_type": "display_data"
    }
   ],
   "source": [
    "show_dct_pattern(7, 7)"
   ]
  },
  {
   "cell_type": "code",
   "execution_count": 32,
   "metadata": {},
   "outputs": [
    {
     "data": {
      "image/png": "[encoded data removed]",
      "text/plain": [
       "<Figure size 432x288 with 1 Axes>"
      ]
     },
     "metadata": {
      "needs_background": "light"
     },
     "output_type": "display_data"
    }
   ],
   "source": [
    "r = show_dct_pattern(1, 0)"
   ]
  },
  {
   "cell_type": "code",
   "execution_count": 33,
   "metadata": {},
   "outputs": [
    {
     "data": {
      "text/plain": [
       "<matplotlib.image.AxesImage at 0x1be686f0fd0>"
      ]
     },
     "execution_count": 33,
     "metadata": {},
     "output_type": "execute_result"
    },
    {
     "data": {
      "image/png": "[encoded data removed]",
      "text/plain": [
       "<Figure size 432x288 with 1 Axes>"
      ]
     },
     "metadata": {
      "needs_background": "light"
     },
     "output_type": "display_data"
    }
   ],
   "source": [
    "r2 = r * -0.341\n",
    "plt.imshow(r2, cmap='gray')"
   ]
  },
  {
   "cell_type": "markdown",
   "metadata": {},
   "source": [
    "# TODO\n",
    "\n",
    "[ ] Use formula in https://en.wikipedia.org/wiki/JPEG#JPEG_codec_example"
   ]
  },
  {
   "cell_type": "code",
   "execution_count": null,
   "metadata": {},
   "outputs": [],
   "source": []
  }
 ],
 "metadata": {
  "kernelspec": {
   "display_name": "Python 3",
   "language": "python",
   "name": "python3"
  },
  "language_info": {
   "codemirror_mode": {
    "name": "ipython",
    "version": 3
   },
   "file_extension": ".py",
   "mimetype": "text/x-python",
   "name": "python",
   "nbconvert_exporter": "python",
   "pygments_lexer": "ipython3",
   "version": "3.6.10"
  }
 },
 "nbformat": 4,
 "nbformat_minor": 4
}
