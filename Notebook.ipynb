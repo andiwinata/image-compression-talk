{
 "cells": [
  {
   "cell_type": "code",
   "execution_count": 76,
   "metadata": {},
   "outputs": [],
   "source": [
    "# From dct.py"
   ]
  },
  {
   "cell_type": "code",
   "execution_count": 77,
   "metadata": {},
   "outputs": [],
   "source": [
    "import numpy as np\n",
    "import matplotlib.pyplot as plt\n",
    "import scipy\n",
    "import cv2"
   ]
  },
  {
   "cell_type": "code",
   "execution_count": 78,
   "metadata": {},
   "outputs": [],
   "source": [
    "# https://stackoverflow.com/questions/9777783/suppress-scientific-notation-in-numpy-when-creating-array-from-nested-list\n",
    "# prevent numpy exponential \n",
    "# notation on print, default False\n",
    "np.set_printoptions(suppress=True)"
   ]
  },
  {
   "cell_type": "code",
   "execution_count": 90,
   "metadata": {},
   "outputs": [],
   "source": [
    "from IPython.display import Markdown as md\n",
    "\n",
    "# From https://stackoverflow.com/questions/5466451/how-can-i-print-literal-curly-brace-characters-in-python-string-and-also-use-fo\n",
    "# https://stackoverflow.com/a/47310524/4162778\n",
    "def array_to_latex_matrix(arr):\n",
    "    converted_str = np.array2string(arr, separator=' &', suppress_small=True).replace('[', '').replace(']', '').replace('\\n', '\\\\\\\\\\n').replace('&\\\\', '\\\\')\n",
    "    \n",
    "    md_format = \"\\\\begin{{bmatrix}}{0}\\\\end{{bmatrix}}\"\n",
    "    return md(md_format.format(converted_str))"
   ]
  },
  {
   "cell_type": "code",
   "execution_count": 91,
   "metadata": {},
   "outputs": [],
   "source": [
    "# From https://en.wikipedia.org/wiki/JPEG#JPEG_codec_example\n",
    "wiki_raw = np.array([\n",
    "  [52, 55, 61, 66, 70, 61, 64, 73],\n",
    "  [63, 59, 55, 90, 109, 85, 69, 72],\n",
    "  [62, 59, 68, 113, 144, 104, 66, 73],\n",
    "  [63, 58, 71, 122, 154, 106, 70, 69],\n",
    "  [67, 61, 68, 104, 126, 88, 68, 70],\n",
    "  [79, 65, 60, 70, 77, 68, 58, 75],\n",
    "  [85, 71, 64, 59, 55, 61, 65, 83],\n",
    "  [87, 79, 69, 68, 65, 76, 78, 94]\n",
    "])\n",
    "\n",
    "jpg_low_color = np.array([\n",
    "  [255, 255, 255, 255,  255, 255, 255, 255],\n",
    "  [255, 255, 255, 255,  255, 255, 255, 0  ],\n",
    "  [255, 255, 255, 255,  255, 255, 0  , 0  ],\n",
    "  [255, 255, 255, 255,  0  , 0  , 0  , 255],\n",
    "  [255, 255, 255, 0  ,  0  , 255, 255, 255],\n",
    "  [255, 0  , 0  , 0  ,  255, 255, 255, 255],\n",
    "  [0  , 255, 255, 255,  255, 255, 255, 255],\n",
    "  [255, 255, 255, 255,  255, 255, 255, 255],\n",
    "])\n",
    "\n",
    "def normalizeImg(img):\n",
    "  # This normalization is wrong\n",
    "  # return np.array(img) / 255\n",
    "\n",
    "  # normalized this way following wiki JPEG\n",
    "  # and https://stackoverflow.com/questions/31949210/assertion-failed-type-cv-32fc1-type-cv-64fc1-in-dct\n",
    "  return (np.array(img) - 128) / 128"
   ]
  },
  {
   "cell_type": "code",
   "execution_count": 92,
   "metadata": {
    "scrolled": true
   },
   "outputs": [
    {
     "data": {
      "text/markdown": [
       "\\begin{bmatrix}255 &255 &255 &255 &255 &255 &255 &255 \\\\\n",
       " 255 &255 &255 &255 &255 &255 &255 &  0 \\\\\n",
       " 255 &255 &255 &255 &255 &255 &  0 &  0 \\\\\n",
       " 255 &255 &255 &255 &  0 &  0 &  0 &255 \\\\\n",
       " 255 &255 &255 &  0 &  0 &255 &255 &255 \\\\\n",
       " 255 &  0 &  0 &  0 &255 &255 &255 &255 \\\\\n",
       "   0 &255 &255 &255 &255 &255 &255 &255 \\\\\n",
       " 255 &255 &255 &255 &255 &255 &255 &255\\end{bmatrix}"
      ],
      "text/plain": [
       "<IPython.core.display.Markdown object>"
      ]
     },
     "execution_count": 92,
     "metadata": {},
     "output_type": "execute_result"
    }
   ],
   "source": [
    "array_to_latex_matrix(jpg_low_color)"
   ]
  },
  {
   "cell_type": "code",
   "execution_count": 82,
   "metadata": {},
   "outputs": [],
   "source": [
    "wiki_raw_normalized = normalizeImg(wiki_raw)\n",
    "jpg_low_color_normalized = normalizeImg(jpg_low_color)"
   ]
  },
  {
   "cell_type": "code",
   "execution_count": 83,
   "metadata": {},
   "outputs": [],
   "source": [
    "q50_table = np.array([\n",
    "  [16, 11, 10, 16, 24, 40, 51, 61],\n",
    "  [12, 12, 14, 19, 26, 58, 60, 55],\n",
    "  [14, 13, 16, 24, 40, 57, 69, 56],\n",
    "  [14, 17, 22, 29, 51, 87, 80, 62],\n",
    "  [18, 22, 37, 56, 68, 109, 103, 77],\n",
    "  [24, 35, 55, 64, 81, 104, 113, 92],\n",
    "  [49, 64, 78, 87, 103, 121, 120, 101],\n",
    "  [72, 92, 95, 98, 112, 100, 103, 99]\n",
    "])"
   ]
  },
  {
   "cell_type": "code",
   "execution_count": 84,
   "metadata": {},
   "outputs": [],
   "source": [
    "def convert_dct_cv2(img):\n",
    "  print('Start DCT')\n",
    "  print(img)\n",
    "  print('-----------')\n",
    "  DCT = cv2.dct(img)\n",
    "  result = np.round(DCT * 128, decimals=2)\n",
    "  print('Coefficient')\n",
    "  print(result)\n",
    "  print('-----------')\n",
    "  return result"
   ]
  },
  {
   "cell_type": "code",
   "execution_count": 85,
   "metadata": {},
   "outputs": [],
   "source": [
    "def quantization(coefficient):\n",
    "  result = np.round(coefficient / q50_table)\n",
    "  print('After quantization')\n",
    "  print(result)\n",
    "  print('-----------')\n",
    "  return result"
   ]
  },
  {
   "cell_type": "code",
   "execution_count": 86,
   "metadata": {},
   "outputs": [
    {
     "name": "stdout",
     "output_type": "stream",
     "text": [
      "Start DCT\n",
      "[[-0.59375   -0.5703125 -0.5234375 -0.484375  -0.453125  -0.5234375\n",
      "  -0.5       -0.4296875]\n",
      " [-0.5078125 -0.5390625 -0.5703125 -0.296875  -0.1484375 -0.3359375\n",
      "  -0.4609375 -0.4375   ]\n",
      " [-0.515625  -0.5390625 -0.46875   -0.1171875  0.125     -0.1875\n",
      "  -0.484375  -0.4296875]\n",
      " [-0.5078125 -0.546875  -0.4453125 -0.046875   0.203125  -0.171875\n",
      "  -0.453125  -0.4609375]\n",
      " [-0.4765625 -0.5234375 -0.46875   -0.1875    -0.015625  -0.3125\n",
      "  -0.46875   -0.453125 ]\n",
      " [-0.3828125 -0.4921875 -0.53125   -0.453125  -0.3984375 -0.46875\n",
      "  -0.546875  -0.4140625]\n",
      " [-0.3359375 -0.4453125 -0.5       -0.5390625 -0.5703125 -0.5234375\n",
      "  -0.4921875 -0.3515625]\n",
      " [-0.3203125 -0.3828125 -0.4609375 -0.46875   -0.4921875 -0.40625\n",
      "  -0.390625  -0.265625 ]]\n",
      "-----------\n",
      "Coefficient\n",
      "[[-415.38  -30.19  -61.2    27.24   56.12  -20.1    -2.39    0.46]\n",
      " [   4.47  -21.86  -60.76   10.25   13.15   -7.09   -8.54    4.88]\n",
      " [ -46.83    7.37   77.13  -24.56  -28.91    9.93    5.42   -5.65]\n",
      " [ -48.53   12.07   34.1   -14.76  -10.24    6.3     1.83    1.95]\n",
      " [  12.12   -6.55  -13.2    -3.95   -1.87    1.75   -2.79    3.14]\n",
      " [  -7.73    2.91    2.38   -5.94   -2.38    0.94    4.3     1.85]\n",
      " [  -1.03    0.18    0.42   -2.42   -0.88   -3.02    4.12   -0.66]\n",
      " [  -0.17    0.14   -1.07   -4.19   -1.17   -0.1     0.5     1.68]]\n",
      "-----------\n",
      "After quantization\n",
      "[[-26.  -3.  -6.   2.   2.  -1.  -0.   0.]\n",
      " [  0.  -2.  -4.   1.   1.  -0.  -0.   0.]\n",
      " [ -3.   1.   5.  -1.  -1.   0.   0.  -0.]\n",
      " [ -3.   1.   2.  -1.  -0.   0.   0.   0.]\n",
      " [  1.  -0.  -0.  -0.  -0.   0.  -0.   0.]\n",
      " [ -0.   0.   0.  -0.  -0.   0.   0.   0.]\n",
      " [ -0.   0.   0.  -0.  -0.  -0.   0.  -0.]\n",
      " [ -0.   0.  -0.  -0.  -0.  -0.   0.   0.]]\n",
      "-----------\n"
     ]
    }
   ],
   "source": [
    "wiki_result = quantization(convert_dct_cv2(wiki_raw_normalized))"
   ]
  },
  {
   "cell_type": "code",
   "execution_count": 87,
   "metadata": {},
   "outputs": [
    {
     "name": "stdout",
     "output_type": "stream",
     "text": [
      "Start DCT\n",
      "[[ 0.9921875  0.9921875  0.9921875  0.9921875  0.9921875  0.9921875\n",
      "   0.9921875  0.9921875]\n",
      " [ 0.9921875  0.9921875  0.9921875  0.9921875  0.9921875  0.9921875\n",
      "   0.9921875 -1.       ]\n",
      " [ 0.9921875  0.9921875  0.9921875  0.9921875  0.9921875  0.9921875\n",
      "  -1.        -1.       ]\n",
      " [ 0.9921875  0.9921875  0.9921875  0.9921875 -1.        -1.\n",
      "  -1.         0.9921875]\n",
      " [ 0.9921875  0.9921875  0.9921875 -1.        -1.         0.9921875\n",
      "   0.9921875  0.9921875]\n",
      " [ 0.9921875 -1.        -1.        -1.         0.9921875  0.9921875\n",
      "   0.9921875  0.9921875]\n",
      " [-1.         0.9921875  0.9921875  0.9921875  0.9921875  0.9921875\n",
      "   0.9921875  0.9921875]\n",
      " [ 0.9921875  0.9921875  0.9921875  0.9921875  0.9921875  0.9921875\n",
      "   0.9921875  0.9921875]]\n",
      "-----------\n",
      "Coefficient\n",
      "[[ 633.5    81.69   24.4    28.69  -63.75  -19.17   58.9   -16.25]\n",
      " [  16.25  243.87  -90.49   27.83    1.34   46.03    0.85  -25.82]\n",
      " [ 259.99  -98.8  -198.98   44.21  -10.11    8.79 -108.83   33.11]\n",
      " [ -19.17 -292.67  172.18  109.11  -30.92    8.28    3.64   86.72]\n",
      " [  63.75   60.95  225.48 -184.79    0.     23.29   44.61  -47.3 ]\n",
      " [ -28.69    3.43  -76.71 -209.37  103.65  -71.77  -18.31  -75.01]\n",
      " [ -38.69  -25.04   18.67  181.7   142.19  -28.86   71.48   37.48]\n",
      " [  81.69   11.53  -60.46   -8.68 -170.12  -62.33   32.33  -26.22]]\n",
      "-----------\n",
      "After quantization\n",
      "[[ 40.   7.   2.   2.  -3.  -0.   1.  -0.]\n",
      " [  1.  20.  -6.   1.   0.   1.   0.  -0.]\n",
      " [ 19.  -8. -12.   2.  -0.   0.  -2.   1.]\n",
      " [ -1. -17.   8.   4.  -1.   0.   0.   1.]\n",
      " [  4.   3.   6.  -3.   0.   0.   0.  -1.]\n",
      " [ -1.   0.  -1.  -3.   1.  -1.  -0.  -1.]\n",
      " [ -1.  -0.   0.   2.   1.  -0.   1.   0.]\n",
      " [  1.   0.  -1.  -0.  -2.  -1.   0.  -0.]]\n",
      "-----------\n"
     ]
    }
   ],
   "source": [
    "jpg_low_color_result = quantization(convert_dct_cv2(jpg_low_color_normalized))"
   ]
  },
  {
   "cell_type": "code",
   "execution_count": 97,
   "metadata": {},
   "outputs": [
    {
     "data": {
      "text/markdown": [
       "\\begin{bmatrix}-26 & -3 & -6 &  2 &  2 & -1 &  0 &  0 \\\\\n",
       "   0 & -2 & -4 &  1 &  1 &  0 &  0 &  0 \\\\\n",
       "  -3 &  1 &  5 & -1 & -1 &  0 &  0 &  0 \\\\\n",
       "  -3 &  1 &  2 & -1 &  0 &  0 &  0 &  0 \\\\\n",
       "   1 &  0 &  0 &  0 &  0 &  0 &  0 &  0 \\\\\n",
       "   0 &  0 &  0 &  0 &  0 &  0 &  0 &  0 \\\\\n",
       "   0 &  0 &  0 &  0 &  0 &  0 &  0 &  0 \\\\\n",
       "   0 &  0 &  0 &  0 &  0 &  0 &  0 &  0\\end{bmatrix}"
      ],
      "text/plain": [
       "<IPython.core.display.Markdown object>"
      ]
     },
     "execution_count": 97,
     "metadata": {},
     "output_type": "execute_result"
    }
   ],
   "source": [
    "# Remove trailing dot\n",
    "# https://stackoverflow.com/questions/57980827/is-it-possible-to-remove-the-dot-from-each-of-the-following-values\n",
    "array_to_latex_matrix(wiki_result.astype(int))"
   ]
  },
  {
   "cell_type": "code",
   "execution_count": 96,
   "metadata": {},
   "outputs": [
    {
     "data": {
      "text/markdown": [
       "\\begin{bmatrix} 40 &  7 &  2 &  2 & -3 &  0 &  1 &  0 \\\\\n",
       "   1 & 20 & -6 &  1 &  0 &  1 &  0 &  0 \\\\\n",
       "  19 & -8 &-12 &  2 &  0 &  0 & -2 &  1 \\\\\n",
       "  -1 &-17 &  8 &  4 & -1 &  0 &  0 &  1 \\\\\n",
       "   4 &  3 &  6 & -3 &  0 &  0 &  0 & -1 \\\\\n",
       "  -1 &  0 & -1 & -3 &  1 & -1 &  0 & -1 \\\\\n",
       "  -1 &  0 &  0 &  2 &  1 &  0 &  1 &  0 \\\\\n",
       "   1 &  0 & -1 &  0 & -2 & -1 &  0 &  0\\end{bmatrix}"
      ],
      "text/plain": [
       "<IPython.core.display.Markdown object>"
      ]
     },
     "execution_count": 96,
     "metadata": {},
     "output_type": "execute_result"
    }
   ],
   "source": [
    "array_to_latex_matrix(jpg_low_color_result.astype(int))"
   ]
  },
  {
   "cell_type": "code",
   "execution_count": null,
   "metadata": {},
   "outputs": [],
   "source": []
  }
 ],
 "metadata": {
  "kernelspec": {
   "display_name": "Python 3",
   "language": "python",
   "name": "python3"
  },
  "language_info": {
   "codemirror_mode": {
    "name": "ipython",
    "version": 3
   },
   "file_extension": ".py",
   "mimetype": "text/x-python",
   "name": "python",
   "nbconvert_exporter": "python",
   "pygments_lexer": "ipython3",
   "version": "3.6.10"
  }
 },
 "nbformat": 4,
 "nbformat_minor": 4
}
